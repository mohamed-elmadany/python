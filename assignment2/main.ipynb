{
 "cells": [
  {
   "cell_type": "code",
   "execution_count": 1,
   "id": "6f8e4b50",
   "metadata": {},
   "outputs": [],
   "source": []
  },
  {
   "cell_type": "code",
   "execution_count": 1,
   "id": "4c868c80",
   "metadata": {},
   "outputs": [
    {
     "name": "stdout",
     "output_type": "stream",
     "text": [
      "please enter the operation and 2 numbers comma seperated\n",
      "add,2,1\n",
      "result= 3\n",
      "do you want to make another operation yes or no\n",
      "yes\n",
      "please enter the operation and 2 numbers comma seperated\n",
      "div,2,1\n",
      "result= 2.0\n",
      "do you want to make another operation yes or no\n",
      "no\n"
     ]
    }
   ],
   "source": [
    "import calc\n",
    "while 1:\n",
    "    inp1=input(\"please enter the operation and 2 numbers comma seperated\\n\")\n",
    "    op,x,y=inp1.split(',')\n",
    "    if op==\"add\":\n",
    "        result=calc.add(int(x),int(y))\n",
    "    elif op==\"sub\":\n",
    "        result=calc.sub(int(x),int(y))\n",
    "    elif op==\"div\":\n",
    "        result=calc.div(int(x),int(y))\n",
    "    elif op==\"mult\":\n",
    "        result=calc.mult(int(x),int(y))\n",
    "    else: \n",
    "        print(\"please enter a valid operation\")\n",
    "    print(\"result=\",result)\n",
    "    inp2=input(\"do you want to make another operation yes or no\\n\")\n",
    "    if inp2==\"yes\":\n",
    "        continue\n",
    "    else:\n",
    "        break"
   ]
  },
  {
   "cell_type": "code",
   "execution_count": null,
   "id": "5607d641",
   "metadata": {},
   "outputs": [],
   "source": []
  }
 ],
 "metadata": {
  "kernelspec": {
   "display_name": "Python 3 (ipykernel)",
   "language": "python",
   "name": "python3"
  },
  "language_info": {
   "codemirror_mode": {
    "name": "ipython",
    "version": 3
   },
   "file_extension": ".py",
   "mimetype": "text/x-python",
   "name": "python",
   "nbconvert_exporter": "python",
   "pygments_lexer": "ipython3",
   "version": "3.10.9"
  }
 },
 "nbformat": 4,
 "nbformat_minor": 5
}
